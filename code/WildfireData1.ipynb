{
 "cells": [
  {
   "cell_type": "markdown",
   "metadata": {
    "slideshow": {
     "slide_type": "slide"
    }
   },
   "source": [
    "### Historical California Wildfire Data"
   ]
  },
  {
   "cell_type": "markdown",
   "metadata": {
    "slideshow": {
     "slide_type": "slide"
    }
   },
   "source": [
    "CAL FIRE maintains historical data about wildfires in California.  At present, this includes detailed GIS (Geographic Information System) files describing the geography of individual fires.  Previously available was an Excel spreadsheet with summary statistics of many fires, which was also analyzed in some work by a USGS research scientist, hosted <a href=\"https://github.com/abarbour/FireHistory/tree/master/data\">here</a>.  We will be working with this summary spreadsheet, which is part of the git repository containing these exercises, or which you can download from <a href=\"data/wildfires/Fires_100.xlsx\">this link</a>.\n",
    "\n",
    "The spreadsheet contains information on California fires dating back to 1878, providing the following summary information for each identified fire (with some data fields missing for some fires):\n",
    "\n",
    "* YEAR\n",
    "* STATE\n",
    "* AGENCY\n",
    "* UNIT_ID\n",
    "* FIRE_NAME\n",
    "* INC_NUM (incident number)\n",
    "* ALARM_DATE\n",
    "* CONT_DATE (containment date)\n",
    "* CAUSE\n",
    "* COMMENTS\n",
    "* REPORT_AC (reported number of acres burned)\n",
    "* GIS_ACRES (number of acres burned as determined by analysis of GIS data)\n",
    "* C_METHOD\n",
    "* OBJECTIVE\n",
    "\n",
    "In the following analyses, the data fields that will be of most interest to us are YEAR, AGENCY, ALARM_DATE, CONT_DATE, and GIS_ACRES."
   ]
  },
  {
   "cell_type": "markdown",
   "metadata": {
    "slideshow": {
     "slide_type": "slide"
    }
   },
   "source": [
    "### Dealing with data\n",
    "\n",
    "While this dataset from CAL FIRE is extremely useful, it is sometimes the case the data you acquire will need to be cleaned up some in order for you to begin working with it.  Here you will learn some useful tools within pandas for cleaning up data of this sort.\n",
    "\n",
    "First, let's import some modules that will be useful for analyzing and plotting data."
   ]
  },
  {
   "cell_type": "code",
   "execution_count": 1,
   "metadata": {},
   "outputs": [],
   "source": [
    "import pandas as pd\n",
    "import seaborn as sns\n",
    "import matplotlib.pyplot as plt\n",
    "%matplotlib inline"
   ]
  },
  {
   "cell_type": "markdown",
   "metadata": {
    "slideshow": {
     "slide_type": "slide"
    }
   },
   "source": [
    "Previously you used a pandas function to read tabular data from a csv file into a DataFrame.\n",
    "\n",
    "You can use a similar function to read tabular data stored in an Excel spreadsheet.\n",
    "- Tabular data in an Excel spreadsheet is of the same form, just in a different format.\n",
    "- If a spreadsheet file contains more than one sheet, you usually will want to specify which sheet name to read."
   ]
  },
  {
   "cell_type": "code",
   "execution_count": 2,
   "metadata": {},
   "outputs": [
    {
     "data": {
      "text/html": [
       "<div>\n",
       "<style scoped>\n",
       "    .dataframe tbody tr th:only-of-type {\n",
       "        vertical-align: middle;\n",
       "    }\n",
       "\n",
       "    .dataframe tbody tr th {\n",
       "        vertical-align: top;\n",
       "    }\n",
       "\n",
       "    .dataframe thead th {\n",
       "        text-align: right;\n",
       "    }\n",
       "</style>\n",
       "<table border=\"1\" class=\"dataframe\">\n",
       "  <thead>\n",
       "    <tr style=\"text-align: right;\">\n",
       "      <th></th>\n",
       "      <th>YEAR</th>\n",
       "      <th>STATE</th>\n",
       "      <th>AGENCY</th>\n",
       "      <th>UNIT_ID</th>\n",
       "      <th>FIRE_NAME</th>\n",
       "      <th>INC_NUM</th>\n",
       "      <th>ALARM_DATE</th>\n",
       "      <th>CONT_DATE</th>\n",
       "      <th>CAUSE</th>\n",
       "      <th>COMMENTS</th>\n",
       "      <th>REPORT_AC</th>\n",
       "      <th>GIS_ACRES</th>\n",
       "      <th>C_METHOD</th>\n",
       "      <th>OBJECTIVE</th>\n",
       "    </tr>\n",
       "  </thead>\n",
       "  <tbody>\n",
       "    <tr>\n",
       "      <td>0</td>\n",
       "      <td>1878</td>\n",
       "      <td>California</td>\n",
       "      <td>Contract County</td>\n",
       "      <td>Los Angeles County</td>\n",
       "      <td></td>\n",
       "      <td>0</td>\n",
       "      <td>&lt;Null&gt;</td>\n",
       "      <td>&lt;Null&gt;</td>\n",
       "      <td>14 - Unknown / Unidentified</td>\n",
       "      <td>NaN</td>\n",
       "      <td>&lt;Null&gt;</td>\n",
       "      <td>59468.8800</td>\n",
       "      <td>&lt;Null&gt;</td>\n",
       "      <td>Suppression (Wildfire)</td>\n",
       "    </tr>\n",
       "    <tr>\n",
       "      <td>1</td>\n",
       "      <td>1895</td>\n",
       "      <td>California</td>\n",
       "      <td>Contract County</td>\n",
       "      <td>Los Angeles County</td>\n",
       "      <td></td>\n",
       "      <td>0</td>\n",
       "      <td>&lt;Null&gt;</td>\n",
       "      <td>&lt;Null&gt;</td>\n",
       "      <td>14 - Unknown / Unidentified</td>\n",
       "      <td>NaN</td>\n",
       "      <td>&lt;Null&gt;</td>\n",
       "      <td>628.1136</td>\n",
       "      <td>&lt;Null&gt;</td>\n",
       "      <td>Suppression (Wildfire)</td>\n",
       "    </tr>\n",
       "    <tr>\n",
       "      <td>2</td>\n",
       "      <td>1896</td>\n",
       "      <td>California</td>\n",
       "      <td>Contract County</td>\n",
       "      <td>Los Angeles County</td>\n",
       "      <td></td>\n",
       "      <td>0</td>\n",
       "      <td>&lt;Null&gt;</td>\n",
       "      <td>&lt;Null&gt;</td>\n",
       "      <td>14 - Unknown / Unidentified</td>\n",
       "      <td>NaN</td>\n",
       "      <td>&lt;Null&gt;</td>\n",
       "      <td>7531.7170</td>\n",
       "      <td>&lt;Null&gt;</td>\n",
       "      <td>Suppression (Wildfire)</td>\n",
       "    </tr>\n",
       "    <tr>\n",
       "      <td>3</td>\n",
       "      <td>1898</td>\n",
       "      <td>California</td>\n",
       "      <td>Contract County</td>\n",
       "      <td>Los Angeles County</td>\n",
       "      <td></td>\n",
       "      <td>0</td>\n",
       "      <td>&lt;Null&gt;</td>\n",
       "      <td>&lt;Null&gt;</td>\n",
       "      <td>14 - Unknown / Unidentified</td>\n",
       "      <td>NaN</td>\n",
       "      <td>&lt;Null&gt;</td>\n",
       "      <td>1660.1030</td>\n",
       "      <td>&lt;Null&gt;</td>\n",
       "      <td>Suppression (Wildfire)</td>\n",
       "    </tr>\n",
       "    <tr>\n",
       "      <td>4</td>\n",
       "      <td>1898</td>\n",
       "      <td>California</td>\n",
       "      <td>Contract County</td>\n",
       "      <td>Los Angeles County</td>\n",
       "      <td></td>\n",
       "      <td>0</td>\n",
       "      <td>&lt;Null&gt;</td>\n",
       "      <td>&lt;Null&gt;</td>\n",
       "      <td>14 - Unknown / Unidentified</td>\n",
       "      <td>NaN</td>\n",
       "      <td>&lt;Null&gt;</td>\n",
       "      <td>428.4387</td>\n",
       "      <td>&lt;Null&gt;</td>\n",
       "      <td>Suppression (Wildfire)</td>\n",
       "    </tr>\n",
       "  </tbody>\n",
       "</table>\n",
       "</div>"
      ],
      "text/plain": [
       "   YEAR       STATE           AGENCY             UNIT_ID FIRE_NAME INC_NUM  \\\n",
       "0  1878  California  Contract County  Los Angeles County                 0   \n",
       "1  1895  California  Contract County  Los Angeles County                 0   \n",
       "2  1896  California  Contract County  Los Angeles County                 0   \n",
       "3  1898  California  Contract County  Los Angeles County                 0   \n",
       "4  1898  California  Contract County  Los Angeles County                 0   \n",
       "\n",
       "  ALARM_DATE CONT_DATE                        CAUSE COMMENTS REPORT_AC  \\\n",
       "0     <Null>    <Null>  14 - Unknown / Unidentified      NaN    <Null>   \n",
       "1     <Null>    <Null>  14 - Unknown / Unidentified      NaN    <Null>   \n",
       "2     <Null>    <Null>  14 - Unknown / Unidentified      NaN    <Null>   \n",
       "3     <Null>    <Null>  14 - Unknown / Unidentified      NaN    <Null>   \n",
       "4     <Null>    <Null>  14 - Unknown / Unidentified      NaN    <Null>   \n",
       "\n",
       "    GIS_ACRES C_METHOD               OBJECTIVE  \n",
       "0  59468.8800   <Null>  Suppression (Wildfire)  \n",
       "1    628.1136   <Null>  Suppression (Wildfire)  \n",
       "2   7531.7170   <Null>  Suppression (Wildfire)  \n",
       "3   1660.1030   <Null>  Suppression (Wildfire)  \n",
       "4    428.4387   <Null>  Suppression (Wildfire)  "
      ]
     },
     "execution_count": 2,
     "metadata": {},
     "output_type": "execute_result"
    }
   ],
   "source": [
    "df16 = pd.read_excel('../data/wildfires/Fires_100.xlsx', sheet_name='2016')\n",
    "df16.head()"
   ]
  },
  {
   "cell_type": "markdown",
   "metadata": {
    "slideshow": {
     "slide_type": "slide"
    }
   },
   "source": [
    "Let's have a look at the data. Each row specifies a particular fire.  Some of the more important columns are the YEAR, as well as\n",
    "- ALARM_DATE (when fire was first identified),\n",
    "- CONT_DATE (when the fire was considered contained),\n",
    "- GIS_ACRES (number of acres burned, as determined through the use of GIS tools)."
   ]
  },
  {
   "cell_type": "markdown",
   "metadata": {
    "slideshow": {
     "slide_type": "slide"
    }
   },
   "source": [
    "### What's in the DataFrame?"
   ]
  },
  {
   "cell_type": "code",
   "execution_count": 3,
   "metadata": {},
   "outputs": [
    {
     "name": "stdout",
     "output_type": "stream",
     "text": [
      "<class 'pandas.core.frame.DataFrame'>\n",
      "RangeIndex: 11795 entries, 0 to 11794\n",
      "Data columns (total 14 columns):\n",
      "YEAR          11789 non-null object\n",
      "STATE         11795 non-null object\n",
      "AGENCY        11795 non-null object\n",
      "UNIT_ID       11794 non-null object\n",
      "FIRE_NAME     11769 non-null object\n",
      "INC_NUM       11720 non-null object\n",
      "ALARM_DATE    11795 non-null object\n",
      "CONT_DATE     11795 non-null object\n",
      "CAUSE         11795 non-null object\n",
      "COMMENTS      1961 non-null object\n",
      "REPORT_AC     11795 non-null object\n",
      "GIS_ACRES     11795 non-null float64\n",
      "C_METHOD      11795 non-null object\n",
      "OBJECTIVE     11795 non-null object\n",
      "dtypes: float64(1), object(13)\n",
      "memory usage: 1.3+ MB\n"
     ]
    }
   ],
   "source": [
    "df16.info()"
   ]
  },
  {
   "cell_type": "markdown",
   "metadata": {
    "slideshow": {
     "slide_type": "slide"
    }
   },
   "source": [
    "### Oddities \n",
    "\n",
    "Something looks a little funny here.  Look at some of the entries near the top of the DataFrame, and compare that with the summary information provided by <code>info()</code>.\n",
    "\n",
    "There is a disconnect -- what is it?"
   ]
  },
  {
   "cell_type": "markdown",
   "metadata": {
    "slideshow": {
     "slide_type": "slide"
    }
   },
   "source": [
    "One problem is that there are cell values which are supposed to be empty or missing (encoded as `<Null>`), but `info()` wants to count them as non-null.\n",
    "\n",
    "Pandas can handle missing data, but it turns out that `<Null>` is a non-standard representation for missing data. So Pandas interprets it as the character string \"`<Null>`\".\n",
    "\n",
    "Fortunately, the <code>pd.read_excel()</code> function has an option for specifying additional missing values."
   ]
  },
  {
   "cell_type": "code",
   "execution_count": 4,
   "metadata": {
    "slideshow": {
     "slide_type": "-"
    }
   },
   "outputs": [
    {
     "data": {
      "text/html": [
       "<div>\n",
       "<style scoped>\n",
       "    .dataframe tbody tr th:only-of-type {\n",
       "        vertical-align: middle;\n",
       "    }\n",
       "\n",
       "    .dataframe tbody tr th {\n",
       "        vertical-align: top;\n",
       "    }\n",
       "\n",
       "    .dataframe thead th {\n",
       "        text-align: right;\n",
       "    }\n",
       "</style>\n",
       "<table border=\"1\" class=\"dataframe\">\n",
       "  <thead>\n",
       "    <tr style=\"text-align: right;\">\n",
       "      <th></th>\n",
       "      <th>YEAR</th>\n",
       "      <th>STATE</th>\n",
       "      <th>AGENCY</th>\n",
       "      <th>UNIT_ID</th>\n",
       "      <th>FIRE_NAME</th>\n",
       "      <th>INC_NUM</th>\n",
       "      <th>ALARM_DATE</th>\n",
       "      <th>CONT_DATE</th>\n",
       "      <th>CAUSE</th>\n",
       "      <th>COMMENTS</th>\n",
       "      <th>REPORT_AC</th>\n",
       "      <th>GIS_ACRES</th>\n",
       "      <th>C_METHOD</th>\n",
       "      <th>OBJECTIVE</th>\n",
       "    </tr>\n",
       "  </thead>\n",
       "  <tbody>\n",
       "    <tr>\n",
       "      <td>0</td>\n",
       "      <td>1878.0</td>\n",
       "      <td>California</td>\n",
       "      <td>Contract County</td>\n",
       "      <td>Los Angeles County</td>\n",
       "      <td></td>\n",
       "      <td>0</td>\n",
       "      <td>NaN</td>\n",
       "      <td>NaT</td>\n",
       "      <td>14 - Unknown / Unidentified</td>\n",
       "      <td>NaN</td>\n",
       "      <td>NaN</td>\n",
       "      <td>59468.8800</td>\n",
       "      <td>NaN</td>\n",
       "      <td>Suppression (Wildfire)</td>\n",
       "    </tr>\n",
       "    <tr>\n",
       "      <td>1</td>\n",
       "      <td>1895.0</td>\n",
       "      <td>California</td>\n",
       "      <td>Contract County</td>\n",
       "      <td>Los Angeles County</td>\n",
       "      <td></td>\n",
       "      <td>0</td>\n",
       "      <td>NaN</td>\n",
       "      <td>NaT</td>\n",
       "      <td>14 - Unknown / Unidentified</td>\n",
       "      <td>NaN</td>\n",
       "      <td>NaN</td>\n",
       "      <td>628.1136</td>\n",
       "      <td>NaN</td>\n",
       "      <td>Suppression (Wildfire)</td>\n",
       "    </tr>\n",
       "    <tr>\n",
       "      <td>2</td>\n",
       "      <td>1896.0</td>\n",
       "      <td>California</td>\n",
       "      <td>Contract County</td>\n",
       "      <td>Los Angeles County</td>\n",
       "      <td></td>\n",
       "      <td>0</td>\n",
       "      <td>NaN</td>\n",
       "      <td>NaT</td>\n",
       "      <td>14 - Unknown / Unidentified</td>\n",
       "      <td>NaN</td>\n",
       "      <td>NaN</td>\n",
       "      <td>7531.7170</td>\n",
       "      <td>NaN</td>\n",
       "      <td>Suppression (Wildfire)</td>\n",
       "    </tr>\n",
       "    <tr>\n",
       "      <td>3</td>\n",
       "      <td>1898.0</td>\n",
       "      <td>California</td>\n",
       "      <td>Contract County</td>\n",
       "      <td>Los Angeles County</td>\n",
       "      <td></td>\n",
       "      <td>0</td>\n",
       "      <td>NaN</td>\n",
       "      <td>NaT</td>\n",
       "      <td>14 - Unknown / Unidentified</td>\n",
       "      <td>NaN</td>\n",
       "      <td>NaN</td>\n",
       "      <td>1660.1030</td>\n",
       "      <td>NaN</td>\n",
       "      <td>Suppression (Wildfire)</td>\n",
       "    </tr>\n",
       "    <tr>\n",
       "      <td>4</td>\n",
       "      <td>1898.0</td>\n",
       "      <td>California</td>\n",
       "      <td>Contract County</td>\n",
       "      <td>Los Angeles County</td>\n",
       "      <td></td>\n",
       "      <td>0</td>\n",
       "      <td>NaN</td>\n",
       "      <td>NaT</td>\n",
       "      <td>14 - Unknown / Unidentified</td>\n",
       "      <td>NaN</td>\n",
       "      <td>NaN</td>\n",
       "      <td>428.4387</td>\n",
       "      <td>NaN</td>\n",
       "      <td>Suppression (Wildfire)</td>\n",
       "    </tr>\n",
       "  </tbody>\n",
       "</table>\n",
       "</div>"
      ],
      "text/plain": [
       "     YEAR       STATE           AGENCY             UNIT_ID FIRE_NAME INC_NUM  \\\n",
       "0  1878.0  California  Contract County  Los Angeles County                 0   \n",
       "1  1895.0  California  Contract County  Los Angeles County                 0   \n",
       "2  1896.0  California  Contract County  Los Angeles County                 0   \n",
       "3  1898.0  California  Contract County  Los Angeles County                 0   \n",
       "4  1898.0  California  Contract County  Los Angeles County                 0   \n",
       "\n",
       "  ALARM_DATE CONT_DATE                        CAUSE COMMENTS  REPORT_AC  \\\n",
       "0        NaN       NaT  14 - Unknown / Unidentified      NaN        NaN   \n",
       "1        NaN       NaT  14 - Unknown / Unidentified      NaN        NaN   \n",
       "2        NaN       NaT  14 - Unknown / Unidentified      NaN        NaN   \n",
       "3        NaN       NaT  14 - Unknown / Unidentified      NaN        NaN   \n",
       "4        NaN       NaT  14 - Unknown / Unidentified      NaN        NaN   \n",
       "\n",
       "    GIS_ACRES C_METHOD               OBJECTIVE  \n",
       "0  59468.8800      NaN  Suppression (Wildfire)  \n",
       "1    628.1136      NaN  Suppression (Wildfire)  \n",
       "2   7531.7170      NaN  Suppression (Wildfire)  \n",
       "3   1660.1030      NaN  Suppression (Wildfire)  \n",
       "4    428.4387      NaN  Suppression (Wildfire)  "
      ]
     },
     "execution_count": 4,
     "metadata": {},
     "output_type": "execute_result"
    }
   ],
   "source": [
    "df16 = pd.read_excel('../data/wildfires/Fires_100.xlsx', sheet_name='2016', na_values=['<Null>'])\n",
    "df16.head()"
   ]
  },
  {
   "cell_type": "markdown",
   "metadata": {
    "slideshow": {
     "slide_type": "slide"
    }
   },
   "source": [
    "### Re-examining the DataFrame"
   ]
  },
  {
   "cell_type": "code",
   "execution_count": 5,
   "metadata": {
    "slideshow": {
     "slide_type": "-"
    }
   },
   "outputs": [
    {
     "data": {
      "text/html": [
       "<div>\n",
       "<style scoped>\n",
       "    .dataframe tbody tr th:only-of-type {\n",
       "        vertical-align: middle;\n",
       "    }\n",
       "\n",
       "    .dataframe tbody tr th {\n",
       "        vertical-align: top;\n",
       "    }\n",
       "\n",
       "    .dataframe thead th {\n",
       "        text-align: right;\n",
       "    }\n",
       "</style>\n",
       "<table border=\"1\" class=\"dataframe\">\n",
       "  <thead>\n",
       "    <tr style=\"text-align: right;\">\n",
       "      <th></th>\n",
       "      <th>YEAR</th>\n",
       "      <th>STATE</th>\n",
       "      <th>AGENCY</th>\n",
       "      <th>UNIT_ID</th>\n",
       "      <th>FIRE_NAME</th>\n",
       "      <th>INC_NUM</th>\n",
       "      <th>ALARM_DATE</th>\n",
       "      <th>CONT_DATE</th>\n",
       "      <th>CAUSE</th>\n",
       "      <th>COMMENTS</th>\n",
       "      <th>REPORT_AC</th>\n",
       "      <th>GIS_ACRES</th>\n",
       "      <th>C_METHOD</th>\n",
       "      <th>OBJECTIVE</th>\n",
       "    </tr>\n",
       "  </thead>\n",
       "  <tbody>\n",
       "    <tr>\n",
       "      <td>0</td>\n",
       "      <td>1878.0</td>\n",
       "      <td>California</td>\n",
       "      <td>Contract County</td>\n",
       "      <td>Los Angeles County</td>\n",
       "      <td></td>\n",
       "      <td>0</td>\n",
       "      <td>NaN</td>\n",
       "      <td>NaT</td>\n",
       "      <td>14 - Unknown / Unidentified</td>\n",
       "      <td>NaN</td>\n",
       "      <td>NaN</td>\n",
       "      <td>59468.8800</td>\n",
       "      <td>NaN</td>\n",
       "      <td>Suppression (Wildfire)</td>\n",
       "    </tr>\n",
       "    <tr>\n",
       "      <td>1</td>\n",
       "      <td>1895.0</td>\n",
       "      <td>California</td>\n",
       "      <td>Contract County</td>\n",
       "      <td>Los Angeles County</td>\n",
       "      <td></td>\n",
       "      <td>0</td>\n",
       "      <td>NaN</td>\n",
       "      <td>NaT</td>\n",
       "      <td>14 - Unknown / Unidentified</td>\n",
       "      <td>NaN</td>\n",
       "      <td>NaN</td>\n",
       "      <td>628.1136</td>\n",
       "      <td>NaN</td>\n",
       "      <td>Suppression (Wildfire)</td>\n",
       "    </tr>\n",
       "    <tr>\n",
       "      <td>2</td>\n",
       "      <td>1896.0</td>\n",
       "      <td>California</td>\n",
       "      <td>Contract County</td>\n",
       "      <td>Los Angeles County</td>\n",
       "      <td></td>\n",
       "      <td>0</td>\n",
       "      <td>NaN</td>\n",
       "      <td>NaT</td>\n",
       "      <td>14 - Unknown / Unidentified</td>\n",
       "      <td>NaN</td>\n",
       "      <td>NaN</td>\n",
       "      <td>7531.7170</td>\n",
       "      <td>NaN</td>\n",
       "      <td>Suppression (Wildfire)</td>\n",
       "    </tr>\n",
       "    <tr>\n",
       "      <td>3</td>\n",
       "      <td>1898.0</td>\n",
       "      <td>California</td>\n",
       "      <td>Contract County</td>\n",
       "      <td>Los Angeles County</td>\n",
       "      <td></td>\n",
       "      <td>0</td>\n",
       "      <td>NaN</td>\n",
       "      <td>NaT</td>\n",
       "      <td>14 - Unknown / Unidentified</td>\n",
       "      <td>NaN</td>\n",
       "      <td>NaN</td>\n",
       "      <td>1660.1030</td>\n",
       "      <td>NaN</td>\n",
       "      <td>Suppression (Wildfire)</td>\n",
       "    </tr>\n",
       "    <tr>\n",
       "      <td>4</td>\n",
       "      <td>1898.0</td>\n",
       "      <td>California</td>\n",
       "      <td>Contract County</td>\n",
       "      <td>Los Angeles County</td>\n",
       "      <td></td>\n",
       "      <td>0</td>\n",
       "      <td>NaN</td>\n",
       "      <td>NaT</td>\n",
       "      <td>14 - Unknown / Unidentified</td>\n",
       "      <td>NaN</td>\n",
       "      <td>NaN</td>\n",
       "      <td>428.4387</td>\n",
       "      <td>NaN</td>\n",
       "      <td>Suppression (Wildfire)</td>\n",
       "    </tr>\n",
       "  </tbody>\n",
       "</table>\n",
       "</div>"
      ],
      "text/plain": [
       "     YEAR       STATE           AGENCY             UNIT_ID FIRE_NAME INC_NUM  \\\n",
       "0  1878.0  California  Contract County  Los Angeles County                 0   \n",
       "1  1895.0  California  Contract County  Los Angeles County                 0   \n",
       "2  1896.0  California  Contract County  Los Angeles County                 0   \n",
       "3  1898.0  California  Contract County  Los Angeles County                 0   \n",
       "4  1898.0  California  Contract County  Los Angeles County                 0   \n",
       "\n",
       "  ALARM_DATE CONT_DATE                        CAUSE COMMENTS  REPORT_AC  \\\n",
       "0        NaN       NaT  14 - Unknown / Unidentified      NaN        NaN   \n",
       "1        NaN       NaT  14 - Unknown / Unidentified      NaN        NaN   \n",
       "2        NaN       NaT  14 - Unknown / Unidentified      NaN        NaN   \n",
       "3        NaN       NaT  14 - Unknown / Unidentified      NaN        NaN   \n",
       "4        NaN       NaT  14 - Unknown / Unidentified      NaN        NaN   \n",
       "\n",
       "    GIS_ACRES C_METHOD               OBJECTIVE  \n",
       "0  59468.8800      NaN  Suppression (Wildfire)  \n",
       "1    628.1136      NaN  Suppression (Wildfire)  \n",
       "2   7531.7170      NaN  Suppression (Wildfire)  \n",
       "3   1660.1030      NaN  Suppression (Wildfire)  \n",
       "4    428.4387      NaN  Suppression (Wildfire)  "
      ]
     },
     "execution_count": 5,
     "metadata": {},
     "output_type": "execute_result"
    }
   ],
   "source": [
    "df16.head()"
   ]
  },
  {
   "cell_type": "code",
   "execution_count": 6,
   "metadata": {
    "slideshow": {
     "slide_type": "slide"
    }
   },
   "outputs": [
    {
     "name": "stdout",
     "output_type": "stream",
     "text": [
      "<class 'pandas.core.frame.DataFrame'>\n",
      "RangeIndex: 11795 entries, 0 to 11794\n",
      "Data columns (total 14 columns):\n",
      "YEAR          11733 non-null float64\n",
      "STATE         11795 non-null object\n",
      "AGENCY        11795 non-null object\n",
      "UNIT_ID       11792 non-null object\n",
      "FIRE_NAME     11767 non-null object\n",
      "INC_NUM       11319 non-null object\n",
      "ALARM_DATE    7810 non-null object\n",
      "CONT_DATE     2974 non-null datetime64[ns]\n",
      "CAUSE         11784 non-null object\n",
      "COMMENTS      1729 non-null object\n",
      "REPORT_AC     3506 non-null float64\n",
      "GIS_ACRES     11795 non-null float64\n",
      "C_METHOD      3352 non-null object\n",
      "OBJECTIVE     11739 non-null object\n",
      "dtypes: datetime64[ns](1), float64(3), object(10)\n",
      "memory usage: 1.3+ MB\n"
     ]
    }
   ],
   "source": [
    "df16.info()"
   ]
  },
  {
   "cell_type": "markdown",
   "metadata": {
    "slideshow": {
     "slide_type": "slide"
    }
   },
   "source": [
    "### Working with timestamps (datetime objects)\n",
    "\n",
    "Curiously, the ALARM_DATE is interpreted as an \"object\" (read: string), and CONT_DATE is interpreted as a date (datetype64[ns]).  The reason for this discrepancy appears to be the fact that two of the ALARM_DATEs occurred before 1900, and pandas does not correctly interpret them as dates, leaving them as strings.  It would be good if they were both interpreted as dates so that we could operate on them as such.\n",
    "\n",
    "If we revisit the documentation for <code>pd.excel</code>, we see that there is an option to specify what converter function to use for particular datatypes.  The pandas datetime converter <code>pd.to_datetime</code> is just what we want:"
   ]
  },
  {
   "cell_type": "code",
   "execution_count": 7,
   "metadata": {},
   "outputs": [],
   "source": [
    "df16 = pd.read_excel('../data/wildfires/Fires_100.xlsx', sheet_name='2016', na_values=['<Null>'], \n",
    "                   converters= {'ALARM_DATE': pd.to_datetime, 'CONT_DATE': pd.to_datetime})"
   ]
  },
  {
   "cell_type": "code",
   "execution_count": 8,
   "metadata": {
    "slideshow": {
     "slide_type": "slide"
    }
   },
   "outputs": [
    {
     "name": "stdout",
     "output_type": "stream",
     "text": [
      "<class 'pandas.core.frame.DataFrame'>\n",
      "RangeIndex: 11795 entries, 0 to 11794\n",
      "Data columns (total 14 columns):\n",
      "YEAR          11733 non-null float64\n",
      "STATE         11795 non-null object\n",
      "AGENCY        11795 non-null object\n",
      "UNIT_ID       11792 non-null object\n",
      "FIRE_NAME     11767 non-null object\n",
      "INC_NUM       11319 non-null object\n",
      "ALARM_DATE    7810 non-null datetime64[ns]\n",
      "CONT_DATE     2974 non-null datetime64[ns]\n",
      "CAUSE         11784 non-null object\n",
      "COMMENTS      1729 non-null object\n",
      "REPORT_AC     3506 non-null float64\n",
      "GIS_ACRES     11795 non-null float64\n",
      "C_METHOD      3352 non-null object\n",
      "OBJECTIVE     11739 non-null object\n",
      "dtypes: datetime64[ns](2), float64(3), object(9)\n",
      "memory usage: 1.3+ MB\n"
     ]
    }
   ],
   "source": [
    "df16.info()"
   ]
  },
  {
   "cell_type": "markdown",
   "metadata": {},
   "source": [
    "### Concatenating datasets\n",
    "\n",
    "As was mentioned previously, the CAL FIRE data contains multiple worksheets, including information about fires in 2017 that were not included in the aggregated historical data in the 2016 sheet.  We can read in that additional 2017 data and concatentate it with the 2016 data to build a complete dataset.  In doing so, however, we'll have to do a bit more data cleaning.\n",
    "\n",
    "First, let's read in the 2017 sheet, and compare the column headings for the 2016 and 2017 dataframes.  We're assuming that the columns in each dataframe will be the same, so that we can concatenate along the row-wise dimension (axis=0)."
   ]
  },
  {
   "cell_type": "code",
   "execution_count": 9,
   "metadata": {},
   "outputs": [
    {
     "name": "stdout",
     "output_type": "stream",
     "text": [
      "Index(['YEAR_', 'STATE', 'AGENCY', 'UNIT_ID', 'FIRE_NAME', 'INC_NUM',\n",
      "       'ALARM_DATE', 'CONT_DATE', 'CAUSE', 'COMMENTS', 'REPORT_AC',\n",
      "       'GIS_ACRES', 'C_METHOD', 'OBJECTIVE'],\n",
      "      dtype='object')\n",
      "Index(['YEAR', 'STATE', 'AGENCY', 'UNIT_ID', 'FIRE_NAME', 'INC_NUM',\n",
      "       'ALARM_DATE', 'CONT_DATE', 'CAUSE', 'COMMENTS', 'REPORT_AC',\n",
      "       'GIS_ACRES', 'C_METHOD', 'OBJECTIVE'],\n",
      "      dtype='object')\n"
     ]
    }
   ],
   "source": [
    "df17 = pd.read_excel('../data/wildfires/Fires_100.xlsx', sheet_name='2017', na_values=['<Null>'], \n",
    "                   converters= {'ALARM_DATE': pd.to_datetime, 'CONT_DATE': pd.to_datetime})\n",
    "print(df17.columns)\n",
    "print(df16.columns)"
   ]
  },
  {
   "cell_type": "markdown",
   "metadata": {},
   "source": [
    "The column names look *almost* identical, but we can see that the first column in df17 is \"YEAR_\" and the first in 2016 is \"YEAR\".  In order to be able to concatenate these dataframes smoothly, we'll want to rename the column in df17, which we can do with the rename method on the dataframe."
   ]
  },
  {
   "cell_type": "code",
   "execution_count": 10,
   "metadata": {},
   "outputs": [],
   "source": [
    "df17.rename(columns={'YEAR_': 'YEAR'}, inplace=True)"
   ]
  },
  {
   "cell_type": "code",
   "execution_count": 11,
   "metadata": {},
   "outputs": [
    {
     "data": {
      "text/plain": [
       "Index(['YEAR', 'STATE', 'AGENCY', 'UNIT_ID', 'FIRE_NAME', 'INC_NUM',\n",
       "       'ALARM_DATE', 'CONT_DATE', 'CAUSE', 'COMMENTS', 'REPORT_AC',\n",
       "       'GIS_ACRES', 'C_METHOD', 'OBJECTIVE'],\n",
       "      dtype='object')"
      ]
     },
     "execution_count": 11,
     "metadata": {},
     "output_type": "execute_result"
    }
   ],
   "source": [
    "df17.columns"
   ]
  },
  {
   "cell_type": "code",
   "execution_count": 12,
   "metadata": {},
   "outputs": [
    {
     "data": {
      "text/html": [
       "<div>\n",
       "<style scoped>\n",
       "    .dataframe tbody tr th:only-of-type {\n",
       "        vertical-align: middle;\n",
       "    }\n",
       "\n",
       "    .dataframe tbody tr th {\n",
       "        vertical-align: top;\n",
       "    }\n",
       "\n",
       "    .dataframe thead th {\n",
       "        text-align: right;\n",
       "    }\n",
       "</style>\n",
       "<table border=\"1\" class=\"dataframe\">\n",
       "  <thead>\n",
       "    <tr style=\"text-align: right;\">\n",
       "      <th></th>\n",
       "      <th>YEAR</th>\n",
       "      <th>STATE</th>\n",
       "      <th>AGENCY</th>\n",
       "      <th>UNIT_ID</th>\n",
       "      <th>FIRE_NAME</th>\n",
       "      <th>INC_NUM</th>\n",
       "      <th>ALARM_DATE</th>\n",
       "      <th>CONT_DATE</th>\n",
       "      <th>CAUSE</th>\n",
       "      <th>COMMENTS</th>\n",
       "      <th>REPORT_AC</th>\n",
       "      <th>GIS_ACRES</th>\n",
       "      <th>C_METHOD</th>\n",
       "      <th>OBJECTIVE</th>\n",
       "    </tr>\n",
       "  </thead>\n",
       "  <tbody>\n",
       "    <tr>\n",
       "      <td>0</td>\n",
       "      <td>1878.0</td>\n",
       "      <td>California</td>\n",
       "      <td>Contract County</td>\n",
       "      <td>Los Angeles County</td>\n",
       "      <td></td>\n",
       "      <td>0</td>\n",
       "      <td>NaT</td>\n",
       "      <td>NaT</td>\n",
       "      <td>14 - Unknown / Unidentified</td>\n",
       "      <td>NaN</td>\n",
       "      <td>NaN</td>\n",
       "      <td>59468.8800</td>\n",
       "      <td>NaN</td>\n",
       "      <td>Suppression (Wildfire)</td>\n",
       "    </tr>\n",
       "    <tr>\n",
       "      <td>1</td>\n",
       "      <td>1895.0</td>\n",
       "      <td>California</td>\n",
       "      <td>Contract County</td>\n",
       "      <td>Los Angeles County</td>\n",
       "      <td></td>\n",
       "      <td>0</td>\n",
       "      <td>NaT</td>\n",
       "      <td>NaT</td>\n",
       "      <td>14 - Unknown / Unidentified</td>\n",
       "      <td>NaN</td>\n",
       "      <td>NaN</td>\n",
       "      <td>628.1136</td>\n",
       "      <td>NaN</td>\n",
       "      <td>Suppression (Wildfire)</td>\n",
       "    </tr>\n",
       "    <tr>\n",
       "      <td>2</td>\n",
       "      <td>1896.0</td>\n",
       "      <td>California</td>\n",
       "      <td>Contract County</td>\n",
       "      <td>Los Angeles County</td>\n",
       "      <td></td>\n",
       "      <td>0</td>\n",
       "      <td>NaT</td>\n",
       "      <td>NaT</td>\n",
       "      <td>14 - Unknown / Unidentified</td>\n",
       "      <td>NaN</td>\n",
       "      <td>NaN</td>\n",
       "      <td>7531.7170</td>\n",
       "      <td>NaN</td>\n",
       "      <td>Suppression (Wildfire)</td>\n",
       "    </tr>\n",
       "    <tr>\n",
       "      <td>3</td>\n",
       "      <td>1898.0</td>\n",
       "      <td>California</td>\n",
       "      <td>Contract County</td>\n",
       "      <td>Los Angeles County</td>\n",
       "      <td></td>\n",
       "      <td>0</td>\n",
       "      <td>NaT</td>\n",
       "      <td>NaT</td>\n",
       "      <td>14 - Unknown / Unidentified</td>\n",
       "      <td>NaN</td>\n",
       "      <td>NaN</td>\n",
       "      <td>1660.1030</td>\n",
       "      <td>NaN</td>\n",
       "      <td>Suppression (Wildfire)</td>\n",
       "    </tr>\n",
       "    <tr>\n",
       "      <td>4</td>\n",
       "      <td>1898.0</td>\n",
       "      <td>California</td>\n",
       "      <td>Contract County</td>\n",
       "      <td>Los Angeles County</td>\n",
       "      <td></td>\n",
       "      <td>0</td>\n",
       "      <td>NaT</td>\n",
       "      <td>NaT</td>\n",
       "      <td>14 - Unknown / Unidentified</td>\n",
       "      <td>NaN</td>\n",
       "      <td>NaN</td>\n",
       "      <td>428.4387</td>\n",
       "      <td>NaN</td>\n",
       "      <td>Suppression (Wildfire)</td>\n",
       "    </tr>\n",
       "  </tbody>\n",
       "</table>\n",
       "</div>"
      ],
      "text/plain": [
       "     YEAR       STATE           AGENCY             UNIT_ID FIRE_NAME INC_NUM  \\\n",
       "0  1878.0  California  Contract County  Los Angeles County                 0   \n",
       "1  1895.0  California  Contract County  Los Angeles County                 0   \n",
       "2  1896.0  California  Contract County  Los Angeles County                 0   \n",
       "3  1898.0  California  Contract County  Los Angeles County                 0   \n",
       "4  1898.0  California  Contract County  Los Angeles County                 0   \n",
       "\n",
       "  ALARM_DATE CONT_DATE                        CAUSE COMMENTS  REPORT_AC  \\\n",
       "0        NaT       NaT  14 - Unknown / Unidentified      NaN        NaN   \n",
       "1        NaT       NaT  14 - Unknown / Unidentified      NaN        NaN   \n",
       "2        NaT       NaT  14 - Unknown / Unidentified      NaN        NaN   \n",
       "3        NaT       NaT  14 - Unknown / Unidentified      NaN        NaN   \n",
       "4        NaT       NaT  14 - Unknown / Unidentified      NaN        NaN   \n",
       "\n",
       "    GIS_ACRES C_METHOD               OBJECTIVE  \n",
       "0  59468.8800      NaN  Suppression (Wildfire)  \n",
       "1    628.1136      NaN  Suppression (Wildfire)  \n",
       "2   7531.7170      NaN  Suppression (Wildfire)  \n",
       "3   1660.1030      NaN  Suppression (Wildfire)  \n",
       "4    428.4387      NaN  Suppression (Wildfire)  "
      ]
     },
     "execution_count": 12,
     "metadata": {},
     "output_type": "execute_result"
    }
   ],
   "source": [
    "dffires = pd.concat((df16, df17), axis=0)\n",
    "dffires.head()"
   ]
  },
  {
   "cell_type": "markdown",
   "metadata": {
    "slideshow": {
     "slide_type": "slide"
    }
   },
   "source": [
    "Now that the ALARM_DATE and CONT_DATE are both interpreted as datetime objects, we can use them to compute a new quantity not contained in the original dataset: fire duration, i.e., the time between when the fire was first identified and when it was contained.\n",
    "\n",
    "Within Pandas, we can add a new column to the dataset: `df['DURATION']`"
   ]
  },
  {
   "cell_type": "markdown",
   "metadata": {
    "slideshow": {
     "slide_type": "slide"
    }
   },
   "source": [
    "### Augmenting data: wildfire duration\n",
    "\n",
    "Add a new column called DURATION which is the difference between the CONT_DATE and the ALARM_DATE.\n",
    "\n",
    "Hint: Because CONT_DATE and ALARM_DATE are now both <code>datetime</code> objects, you can subtract one from the other.  The resulting object is of type <code>timedelta</code>.  Let's extract the number of days associated with that time difference: the attribute <code>dt.days</code> of a <code>timedelta</code> object provides that information."
   ]
  },
  {
   "cell_type": "code",
   "execution_count": 13,
   "metadata": {},
   "outputs": [],
   "source": [
    "dffires['DURATION'] = (dffires['CONT_DATE'] - dffires['ALARM_DATE']).dt.days"
   ]
  },
  {
   "cell_type": "code",
   "execution_count": 14,
   "metadata": {
    "slideshow": {
     "slide_type": "slide"
    }
   },
   "outputs": [
    {
     "name": "stdout",
     "output_type": "stream",
     "text": [
      "<class 'pandas.core.frame.DataFrame'>\n",
      "Int64Index: 11977 entries, 0 to 181\n",
      "Data columns (total 15 columns):\n",
      "YEAR          11915 non-null float64\n",
      "STATE         11977 non-null object\n",
      "AGENCY        11977 non-null object\n",
      "UNIT_ID       11974 non-null object\n",
      "FIRE_NAME     11949 non-null object\n",
      "INC_NUM       11501 non-null object\n",
      "ALARM_DATE    7992 non-null datetime64[ns]\n",
      "CONT_DATE     3156 non-null datetime64[ns]\n",
      "CAUSE         11966 non-null object\n",
      "COMMENTS      1803 non-null object\n",
      "REPORT_AC     3650 non-null float64\n",
      "GIS_ACRES     11977 non-null float64\n",
      "C_METHOD      3534 non-null object\n",
      "OBJECTIVE     11921 non-null object\n",
      "DURATION      3150 non-null float64\n",
      "dtypes: datetime64[ns](2), float64(4), object(9)\n",
      "memory usage: 1.5+ MB\n"
     ]
    }
   ],
   "source": [
    "dffires.info()"
   ]
  },
  {
   "cell_type": "code",
   "execution_count": 15,
   "metadata": {},
   "outputs": [
    {
     "name": "stdout",
     "output_type": "stream",
     "text": [
      "-32862.0 3319.0\n"
     ]
    }
   ],
   "source": [
    "print(dffires['DURATION'].min(), dffires['DURATION'].max())"
   ]
  },
  {
   "cell_type": "markdown",
   "metadata": {
    "slideshow": {
     "slide_type": "slide"
    }
   },
   "source": [
    "That's weird.  Even though the CONT_DATE presumably should occur <i>after</i> the ALARM_DATE, some of the fire durations are negative.  We can examine them by filtering the dataframe:"
   ]
  },
  {
   "cell_type": "code",
   "execution_count": 16,
   "metadata": {},
   "outputs": [
    {
     "data": {
      "text/html": [
       "<div>\n",
       "<style scoped>\n",
       "    .dataframe tbody tr th:only-of-type {\n",
       "        vertical-align: middle;\n",
       "    }\n",
       "\n",
       "    .dataframe tbody tr th {\n",
       "        vertical-align: top;\n",
       "    }\n",
       "\n",
       "    .dataframe thead th {\n",
       "        text-align: right;\n",
       "    }\n",
       "</style>\n",
       "<table border=\"1\" class=\"dataframe\">\n",
       "  <thead>\n",
       "    <tr style=\"text-align: right;\">\n",
       "      <th></th>\n",
       "      <th>YEAR</th>\n",
       "      <th>STATE</th>\n",
       "      <th>AGENCY</th>\n",
       "      <th>UNIT_ID</th>\n",
       "      <th>FIRE_NAME</th>\n",
       "      <th>INC_NUM</th>\n",
       "      <th>ALARM_DATE</th>\n",
       "      <th>CONT_DATE</th>\n",
       "      <th>CAUSE</th>\n",
       "      <th>COMMENTS</th>\n",
       "      <th>REPORT_AC</th>\n",
       "      <th>GIS_ACRES</th>\n",
       "      <th>C_METHOD</th>\n",
       "      <th>OBJECTIVE</th>\n",
       "      <th>DURATION</th>\n",
       "    </tr>\n",
       "  </thead>\n",
       "  <tbody>\n",
       "    <tr>\n",
       "      <td>6728</td>\n",
       "      <td>1978.0</td>\n",
       "      <td>California</td>\n",
       "      <td>USDA Forest Service</td>\n",
       "      <td>Stanislaus National Forest</td>\n",
       "      <td>KIBBIE</td>\n",
       "      <td>NaN</td>\n",
       "      <td>1979-08-08</td>\n",
       "      <td>1978-11-10</td>\n",
       "      <td>1 - Lightning</td>\n",
       "      <td>20090305</td>\n",
       "      <td>192.000000</td>\n",
       "      <td>227.8784</td>\n",
       "      <td>6 - Hand Drawn</td>\n",
       "      <td>Suppression (Wildfire)</td>\n",
       "      <td>-271.0</td>\n",
       "    </tr>\n",
       "    <tr>\n",
       "      <td>8159</td>\n",
       "      <td>1987.0</td>\n",
       "      <td>California</td>\n",
       "      <td>National Park Service</td>\n",
       "      <td>Sequoia - Kings Canyon NP</td>\n",
       "      <td>COFFEE</td>\n",
       "      <td>0</td>\n",
       "      <td>1987-09-29</td>\n",
       "      <td>1987-09-10</td>\n",
       "      <td>1 - Lightning</td>\n",
       "      <td>NaN</td>\n",
       "      <td>240.000000</td>\n",
       "      <td>196.1928</td>\n",
       "      <td>8 - Unknown</td>\n",
       "      <td>Suppression (Wildfire)</td>\n",
       "      <td>-19.0</td>\n",
       "    </tr>\n",
       "    <tr>\n",
       "      <td>9138</td>\n",
       "      <td>1996.0</td>\n",
       "      <td>California</td>\n",
       "      <td>California Department of Forestry and Fire Pro...</td>\n",
       "      <td>Nevada - Yuba - Placer CAL FIRE</td>\n",
       "      <td>COLUMBIA HILL</td>\n",
       "      <td>0</td>\n",
       "      <td>1996-10-21</td>\n",
       "      <td>1996-10-20</td>\n",
       "      <td>5 - Debris</td>\n",
       "      <td>NaN</td>\n",
       "      <td>NaN</td>\n",
       "      <td>1517.4430</td>\n",
       "      <td>NaN</td>\n",
       "      <td>Suppression (Wildfire)</td>\n",
       "      <td>-1.0</td>\n",
       "    </tr>\n",
       "    <tr>\n",
       "      <td>10375</td>\n",
       "      <td>2005.0</td>\n",
       "      <td>California</td>\n",
       "      <td>Contract County</td>\n",
       "      <td>Los Angeles County</td>\n",
       "      <td>SIERRA</td>\n",
       "      <td>149034</td>\n",
       "      <td>2005-07-13</td>\n",
       "      <td>2005-04-14</td>\n",
       "      <td>8 - Playing with fire</td>\n",
       "      <td>NaN</td>\n",
       "      <td>364.000000</td>\n",
       "      <td>364.3786</td>\n",
       "      <td>8 - Unknown</td>\n",
       "      <td>Suppression (Wildfire)</td>\n",
       "      <td>-90.0</td>\n",
       "    </tr>\n",
       "    <tr>\n",
       "      <td>10618</td>\n",
       "      <td>2007.0</td>\n",
       "      <td>California</td>\n",
       "      <td>Bureau of Land Management</td>\n",
       "      <td>Bakersfield District - BLM  (old)</td>\n",
       "      <td>BROWN</td>\n",
       "      <td>1504</td>\n",
       "      <td>2007-07-20</td>\n",
       "      <td>2007-06-23</td>\n",
       "      <td>9 - Miscellaneous</td>\n",
       "      <td></td>\n",
       "      <td>84.700000</td>\n",
       "      <td>1430.3170</td>\n",
       "      <td>1 - GPS Ground</td>\n",
       "      <td>Suppression (Wildfire)</td>\n",
       "      <td>-27.0</td>\n",
       "    </tr>\n",
       "    <tr>\n",
       "      <td>11511</td>\n",
       "      <td>2014.0</td>\n",
       "      <td>California</td>\n",
       "      <td>National Park Service</td>\n",
       "      <td>Yosemite National Park</td>\n",
       "      <td>DARK HOLE</td>\n",
       "      <td>57</td>\n",
       "      <td>2015-07-16</td>\n",
       "      <td>2014-09-27</td>\n",
       "      <td>1 - Lightning</td>\n",
       "      <td>Managed Lightning Ignited</td>\n",
       "      <td>1076.479248</td>\n",
       "      <td>1076.4790</td>\n",
       "      <td>1 - GPS Ground</td>\n",
       "      <td>NaN</td>\n",
       "      <td>-292.0</td>\n",
       "    </tr>\n",
       "    <tr>\n",
       "      <td>11559</td>\n",
       "      <td>2015.0</td>\n",
       "      <td>California</td>\n",
       "      <td>USDA Forest Service</td>\n",
       "      <td>Humbolt-Toiyabe National Forest</td>\n",
       "      <td>WASHINGTON</td>\n",
       "      <td>30251</td>\n",
       "      <td>2015-07-19</td>\n",
       "      <td>2015-01-01</td>\n",
       "      <td>1 - Lightning</td>\n",
       "      <td></td>\n",
       "      <td>NaN</td>\n",
       "      <td>17779.5400</td>\n",
       "      <td>3 - Infrared</td>\n",
       "      <td>Suppression (Wildfire)</td>\n",
       "      <td>-199.0</td>\n",
       "    </tr>\n",
       "    <tr>\n",
       "      <td>11639</td>\n",
       "      <td>2016.0</td>\n",
       "      <td>California</td>\n",
       "      <td>California Department of Forestry and Fire Pro...</td>\n",
       "      <td>Tuolumne - Calaveras CAL FIRE</td>\n",
       "      <td>MARSHES</td>\n",
       "      <td>10403</td>\n",
       "      <td>2106-09-26</td>\n",
       "      <td>2016-10-05</td>\n",
       "      <td>10 - Vehicle</td>\n",
       "      <td>NaN</td>\n",
       "      <td>1080.000000</td>\n",
       "      <td>930.5065</td>\n",
       "      <td>3 - Infrared</td>\n",
       "      <td>Suppression (Wildfire)</td>\n",
       "      <td>-32862.0</td>\n",
       "    </tr>\n",
       "    <tr>\n",
       "      <td>126</td>\n",
       "      <td>2017.0</td>\n",
       "      <td>California</td>\n",
       "      <td>USDA Forest Service</td>\n",
       "      <td>Plumas National Forest</td>\n",
       "      <td>SQUIRREL</td>\n",
       "      <td>1273</td>\n",
       "      <td>2017-09-27</td>\n",
       "      <td>2017-08-29</td>\n",
       "      <td>7 - Arson</td>\n",
       "      <td>NaN</td>\n",
       "      <td>350.000000</td>\n",
       "      <td>113.0544</td>\n",
       "      <td>6 - Hand Drawn</td>\n",
       "      <td>Suppression (Wildfire)</td>\n",
       "      <td>-29.0</td>\n",
       "    </tr>\n",
       "  </tbody>\n",
       "</table>\n",
       "</div>"
      ],
      "text/plain": [
       "         YEAR       STATE                                             AGENCY  \\\n",
       "6728   1978.0  California                                USDA Forest Service   \n",
       "8159   1987.0  California                              National Park Service   \n",
       "9138   1996.0  California  California Department of Forestry and Fire Pro...   \n",
       "10375  2005.0  California                                    Contract County   \n",
       "10618  2007.0  California                          Bureau of Land Management   \n",
       "11511  2014.0  California                              National Park Service   \n",
       "11559  2015.0  California                                USDA Forest Service   \n",
       "11639  2016.0  California  California Department of Forestry and Fire Pro...   \n",
       "126    2017.0  California                                USDA Forest Service   \n",
       "\n",
       "                                 UNIT_ID      FIRE_NAME INC_NUM ALARM_DATE  \\\n",
       "6728          Stanislaus National Forest         KIBBIE     NaN 1979-08-08   \n",
       "8159           Sequoia - Kings Canyon NP         COFFEE       0 1987-09-29   \n",
       "9138     Nevada - Yuba - Placer CAL FIRE  COLUMBIA HILL       0 1996-10-21   \n",
       "10375                 Los Angeles County         SIERRA  149034 2005-07-13   \n",
       "10618  Bakersfield District - BLM  (old)          BROWN    1504 2007-07-20   \n",
       "11511             Yosemite National Park      DARK HOLE      57 2015-07-16   \n",
       "11559    Humbolt-Toiyabe National Forest     WASHINGTON   30251 2015-07-19   \n",
       "11639      Tuolumne - Calaveras CAL FIRE        MARSHES   10403 2106-09-26   \n",
       "126               Plumas National Forest       SQUIRREL    1273 2017-09-27   \n",
       "\n",
       "       CONT_DATE                  CAUSE                   COMMENTS  \\\n",
       "6728  1978-11-10          1 - Lightning                   20090305   \n",
       "8159  1987-09-10          1 - Lightning                        NaN   \n",
       "9138  1996-10-20             5 - Debris                        NaN   \n",
       "10375 2005-04-14  8 - Playing with fire                        NaN   \n",
       "10618 2007-06-23      9 - Miscellaneous                              \n",
       "11511 2014-09-27          1 - Lightning  Managed Lightning Ignited   \n",
       "11559 2015-01-01          1 - Lightning                              \n",
       "11639 2016-10-05           10 - Vehicle                        NaN   \n",
       "126   2017-08-29              7 - Arson                        NaN   \n",
       "\n",
       "         REPORT_AC   GIS_ACRES        C_METHOD               OBJECTIVE  \\\n",
       "6728    192.000000    227.8784  6 - Hand Drawn  Suppression (Wildfire)   \n",
       "8159    240.000000    196.1928     8 - Unknown  Suppression (Wildfire)   \n",
       "9138           NaN   1517.4430             NaN  Suppression (Wildfire)   \n",
       "10375   364.000000    364.3786     8 - Unknown  Suppression (Wildfire)   \n",
       "10618    84.700000   1430.3170  1 - GPS Ground  Suppression (Wildfire)   \n",
       "11511  1076.479248   1076.4790  1 - GPS Ground                     NaN   \n",
       "11559          NaN  17779.5400    3 - Infrared  Suppression (Wildfire)   \n",
       "11639  1080.000000    930.5065    3 - Infrared  Suppression (Wildfire)   \n",
       "126     350.000000    113.0544  6 - Hand Drawn  Suppression (Wildfire)   \n",
       "\n",
       "       DURATION  \n",
       "6728     -271.0  \n",
       "8159      -19.0  \n",
       "9138       -1.0  \n",
       "10375     -90.0  \n",
       "10618     -27.0  \n",
       "11511    -292.0  \n",
       "11559    -199.0  \n",
       "11639  -32862.0  \n",
       "126       -29.0  "
      ]
     },
     "execution_count": 16,
     "metadata": {},
     "output_type": "execute_result"
    }
   ],
   "source": [
    "dffires[dffires.DURATION<0]"
   ]
  },
  {
   "cell_type": "markdown",
   "metadata": {},
   "source": [
    "In addition to the fires with negative duration, there is also a weird fire lasting more than 3000 days.  Let's assume that both of these situations are arising from data errors, and just remove them from the dataset."
   ]
  },
  {
   "cell_type": "code",
   "execution_count": 17,
   "metadata": {},
   "outputs": [],
   "source": [
    "dffires = dffires[(dffires.DURATION >= 0) & (dffires.DURATION < 3000)]"
   ]
  },
  {
   "cell_type": "markdown",
   "metadata": {},
   "source": [
    "## Plotting wildfire size and duration distributions\n",
    "\n",
    "Histograms are a useful way of summarizing distributions, and <code>plt.hist</code> is a convenient function for plotting them.  Wildfire sizes and durations both extend over broad ranges, so it is useful to make these plots on a log-log axis, using the <code>plt.loglog</code> function.  The distributions are roughly linear on these log-log plots, suggesting a power-law distribution in each case."
   ]
  },
  {
   "cell_type": "code",
   "execution_count": 18,
   "metadata": {},
   "outputs": [
    {
     "data": {
      "text/plain": [
       "Text(0, 0.5, 'P(DURATION)')"
      ]
     },
     "execution_count": 18,
     "metadata": {},
     "output_type": "execute_result"
    },
    {
     "data": {
      "image/png": "[encoded data removed]",
      "text/plain": [
       "<Figure size 921.6x345.6 with 2 Axes>"
      ]
     },
     "metadata": {
      "needs_background": "light"
     },
     "output_type": "display_data"
    }
   ],
   "source": [
    "plt.figure(figsize=[12.8,4.8])\n",
    "plt.subplot(1,2,1)\n",
    "plt.hist(dffires.GIS_ACRES, bins=1000)\n",
    "plt.loglog()\n",
    "plt.xlabel('GIS_ACRES'); plt.ylabel('P(GIS_ACRES)')\n",
    "plt.subplot(1,2,2)\n",
    "plt.hist(dffires.DURATION, bins=100)\n",
    "plt.loglog()\n",
    "plt.xlabel('DURATION'); plt.ylabel('P(DURATION)')\n",
    "#plt.savefig('wildfire_distributions.png')"
   ]
  },
  {
   "cell_type": "markdown",
   "metadata": {
    "slideshow": {
     "slide_type": "slide"
    }
   },
   "source": [
    "### Relationship between fire size and duration\n",
    "\n",
    "Now that we have computed the time duration for 2968 wildfires, let's see how those durations are related to the sizes (GIS_ACRES). "
   ]
  },
  {
   "cell_type": "code",
   "execution_count": 19,
   "metadata": {},
   "outputs": [
    {
     "data": {
      "text/plain": [
       "<matplotlib.axes._subplots.AxesSubplot at 0x1a1e9bda10>"
      ]
     },
     "execution_count": 19,
     "metadata": {},
     "output_type": "execute_result"
    },
    {
     "data": {
      "image/png": "[encoded data removed]",
      "text/plain": [
       "<Figure size 432x288 with 1 Axes>"
      ]
     },
     "metadata": {
      "needs_background": "light"
     },
     "output_type": "display_data"
    }
   ],
   "source": [
    "sns.scatterplot(dffires.GIS_ACRES, dffires.DURATION)"
   ]
  },
  {
   "cell_type": "markdown",
   "metadata": {
    "slideshow": {
     "slide_type": "slide"
    }
   },
   "source": [
    "### Not much correlation between duration and size\n",
    "\n",
    "We might expect some sort of correlation between duration and size, i.e., that bigger fires should probably tend to last longer.  There does not appear to be much correlation in this historical data, however.  Replotting the data, but coloring for which AGENCY is responsible for dealing with the fire, does suggest that some of this lack of correlation may be due to different management practices or suppression policies used by different agencies."
   ]
  },
  {
   "cell_type": "code",
   "execution_count": 20,
   "metadata": {
    "slideshow": {
     "slide_type": "slide"
    }
   },
   "outputs": [
    {
     "data": {
      "text/plain": [
       "<matplotlib.axes._subplots.AxesSubplot at 0x1a1eddf090>"
      ]
     },
     "execution_count": 20,
     "metadata": {},
     "output_type": "execute_result"
    },
    {
     "data": {
      "image/png": "[encoded data removed]",
      "text/plain": [
       "<Figure size 720x720 with 1 Axes>"
      ]
     },
     "metadata": {
      "needs_background": "light"
     },
     "output_type": "display_data"
    }
   ],
   "source": [
    "plt.figure(figsize=(10,10))\n",
    "# make a scatterplot of DURATION vs GIS_ACRES, and color each point by AGENCY\n",
    "sns.scatterplot(data=dffires, x='GIS_ACRES', y='DURATION', hue='AGENCY')\n",
    "#plt.savefig('duration_vs_size_colored.png')"
   ]
  },
  {
   "cell_type": "markdown",
   "metadata": {
    "slideshow": {
     "slide_type": "slide"
    }
   },
   "source": [
    "### Exercise: Are California wildfires getting worse over time?\n",
    "\n",
    "Your objective to is make a plot of the total number of GIS_ACRES burned per year over the entire dataset.  \n",
    "\n",
    "Hint: use the pandas groupby functionality discussed __[here](https://cvw.cac.cornell.edu/testpydata1/groupby)__."
   ]
  },
  {
   "cell_type": "code",
   "execution_count": 21,
   "metadata": {
    "slideshow": {
     "slide_type": "-"
    }
   },
   "outputs": [
    {
     "data": {
      "text/plain": [
       "<matplotlib.axes._subplots.AxesSubplot at 0x1a1f529c10>"
      ]
     },
     "execution_count": 21,
     "metadata": {},
     "output_type": "execute_result"
    },
    {
     "data": {
      "image/png": "[encoded data removed]",
      "text/plain": [
       "<Figure size 432x288 with 1 Axes>"
      ]
     },
     "metadata": {
      "needs_background": "light"
     },
     "output_type": "display_data"
    }
   ],
   "source": [
    "# TO BE REMOVED\n",
    "dffires.groupby('YEAR').sum().reset_index().plot('YEAR', 'GIS_ACRES')\n",
    "#plt.savefig('fires_by_year.png')"
   ]
  },
  {
   "cell_type": "markdown",
   "metadata": {},
   "source": [
    "The total number of acres is increasing over time, although one must also be sure that other potential confounding effects are accounted for (e.g., changes in reporting processes over time)."
   ]
  }
 ],
 "metadata": {
  "kernelspec": {
   "display_name": "Python 3",
   "language": "python",
   "name": "python3"
  },
  "language_info": {
   "codemirror_mode": {
    "name": "ipython",
    "version": 3
   },
   "file_extension": ".py",
   "mimetype": "text/x-python",
   "name": "python",
   "nbconvert_exporter": "python",
   "pygments_lexer": "ipython3",
   "version": "3.7.4"
  }
 },
 "nbformat": 4,
 "nbformat_minor": 2
}
